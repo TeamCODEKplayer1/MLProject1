{
 "cells": [
  {
   "cell_type": "code",
   "execution_count": 1,
   "id": "969900b2-4571-4ca9-b7b7-2a4e801a21cf",
   "metadata": {},
   "outputs": [
    {
     "data": {
      "text/plain": [
       "array([21.564])"
      ]
     },
     "execution_count": 1,
     "metadata": {},
     "output_type": "execute_result"
    }
   ],
   "source": [
    "from joblib import dump, load\n",
    "import numpy as np\n",
    "model = load('RealEstate.joblib')\n",
    "features = np.array([[-0.43942006,  34.12628155, -1.12165014, -0.27288841, -1.42262747,\n",
    "       -2.4141041, -5.31238772,  2.61111401, -1.0016859 , -0.5778192 ,\n",
    "       -0.97491834,  1.41164221, -0.86091034]])\n",
    "model.predict(features)"
   ]
  },
  {
   "cell_type": "code",
   "execution_count": null,
   "id": "c6eae550-ccf3-4476-a1db-09460a412bb1",
   "metadata": {},
   "outputs": [],
   "source": []
  }
 ],
 "metadata": {
  "kernelspec": {
   "display_name": "Python 3 (ipykernel)",
   "language": "python",
   "name": "python3"
  },
  "language_info": {
   "codemirror_mode": {
    "name": "ipython",
    "version": 3
   },
   "file_extension": ".py",
   "mimetype": "text/x-python",
   "name": "python",
   "nbconvert_exporter": "python",
   "pygments_lexer": "ipython3",
   "version": "3.11.5"
  }
 },
 "nbformat": 4,
 "nbformat_minor": 5
}
